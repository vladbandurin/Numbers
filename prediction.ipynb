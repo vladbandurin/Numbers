{
 "cells": [
  {
   "cell_type": "code",
   "execution_count": 1,
   "metadata": {},
   "outputs": [
    {
     "name": "stderr",
     "output_type": "stream",
     "text": [
      "Using TensorFlow backend.\n"
     ]
    }
   ],
   "source": [
    "import gc\n",
    "import numpy as np\n",
    "from keras.preprocessing import image\n",
    "from PIL import Image\n",
    "from keras.utils import np_utils\n",
    "from keras.models import model_from_json"
   ]
  },
  {
   "cell_type": "code",
   "execution_count": 2,
   "metadata": {
    "collapsed": true
   },
   "outputs": [],
   "source": [
    "# Загружаем данные об архитектуре сети из файла json\n",
    "json_file = open(\"model.json\", \"r\")\n",
    "loaded_model_json = json_file.read()\n",
    "json_file.close()\n",
    "# Создаем модель на основе загруженных данных\n",
    "loaded_model = model_from_json(loaded_model_json)\n",
    "# Загружаем веса в модель\n",
    "loaded_model.load_weights(\"model_weights.h5\")"
   ]
  },
  {
   "cell_type": "code",
   "execution_count": 16,
   "metadata": {},
   "outputs": [
    {
     "name": "stdout",
     "output_type": "stream",
     "text": [
      "[4]\n"
     ]
    }
   ],
   "source": [
    "img_path = './train/1/2.png'\n",
    "img = image.load_img(img_path, target_size=(16, 16))\n",
    "x = image.img_to_array(img)\n",
    "x = 255 - x\n",
    "x /= 255\n",
    "x = np.expand_dims(x, axis=0)\n",
    "\n",
    "# json_file = open('mnist_cnn_model_desktop.json', 'r')\n",
    "# json_file = open('mnist_siamese_graph.json', 'r')\n",
    "# json_file = open('mnist_mlp_model.json', 'r')\n",
    "# json_file = open('mnist_hierarchical_rnn_model_desktop.json', 'r')\n",
    "# json_file = open('mnist_irnn_model_desktop.json', 'r')\n",
    "json_file = open('model.json', 'r')\n",
    "# json_file = open('mnist_cnn_model_vscale.json', 'r')\n",
    "loaded_model_json = json_file.read()\n",
    "json_file.close()\n",
    "loaded_model = model_from_json(loaded_model_json)\n",
    "# loaded_model.load_weights(\"mnist_cnn_model_desktop.h5\")\n",
    "# loaded_model.load_weights(\"mnist_siamese_graph.h5\")\n",
    "# loaded_model.load_weights(\"mnist_hierarchical_rnn_model_desktop.h5\")\n",
    "# loaded_model.load_weights(\"mnist_irnn_model_desktop.h5\")\n",
    "loaded_model.load_weights(\"model_weights.h5\")\n",
    "# loaded_model.load_weights(\"mnist_cnn_model_vscale.h5\")\n",
    "\n",
    "loaded_model.compile(loss=\"categorical_crossentropy\", optimizer=\"adam\", metrics=[\"accuracy\"])\n",
    "prediction = loaded_model.predict(x)\n",
    "# prediction = np_utils.categorical_probas_to_classes(prediction)\n",
    "prediction = np.argmax(prediction, axis=1)\n",
    "print(prediction)"
   ]
  },
  {
   "cell_type": "code",
   "execution_count": null,
   "metadata": {
    "collapsed": true
   },
   "outputs": [],
   "source": []
  }
 ],
 "metadata": {
  "kernelspec": {
   "display_name": "Python 3",
   "language": "python",
   "name": "python3"
  },
  "language_info": {
   "codemirror_mode": {
    "name": "ipython",
    "version": 3
   },
   "file_extension": ".py",
   "mimetype": "text/x-python",
   "name": "python",
   "nbconvert_exporter": "python",
   "pygments_lexer": "ipython3",
   "version": "3.6.3"
  }
 },
 "nbformat": 4,
 "nbformat_minor": 2
}
