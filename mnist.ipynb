{
 "cells": [
  {
   "cell_type": "code",
   "execution_count": 1,
   "metadata": {},
   "outputs": [
    {
     "name": "stderr",
     "output_type": "stream",
     "text": [
      "Using TensorFlow backend.\n"
     ]
    }
   ],
   "source": [
    "import numpy\n",
    "from keras.models import Sequential\n",
    "from keras.layers import Dense\n",
    "from keras.utils import np_utils\n",
    "from keras.datasets import mnist\n",
    "\n",
    "numpy.random.seed(42)\n",
    "\n",
    "# Загружаем данные\n",
    "(X_train, y_train), (X_test, y_test) = mnist.load_data()\n"
   ]
  },
  {
   "cell_type": "code",
   "execution_count": 2,
   "metadata": {
    "collapsed": true
   },
   "outputs": [],
   "source": [
    "# Преобразование размерности изображений\n",
    "X_train = X_train.reshape(60000, 784)\n",
    "X_test = X_test.reshape(10000, 784)\n",
    "# Нормализация данных\n",
    "X_train = X_train.astype('float32')\n",
    "X_test = X_test.astype('float32')\n",
    "X_train /= 255\n",
    "X_test /= 255\n",
    "\n",
    "# Преобразуем метки в категории\n",
    "Y_train = np_utils.to_categorical(y_train, 10)\n",
    "Y_test = np_utils.to_categorical(y_test, 10)"
   ]
  },
  {
   "cell_type": "code",
   "execution_count": 6,
   "metadata": {},
   "outputs": [
    {
     "name": "stderr",
     "output_type": "stream",
     "text": [
      "/home/vlad/anaconda3/lib/python3.6/site-packages/ipykernel_launcher.py:5: UserWarning: Update your `Dense` call to the Keras 2 API: `Dense(800, input_dim=784, activation=\"relu\", kernel_initializer=\"normal\")`\n",
      "  \"\"\"\n"
     ]
    },
    {
     "name": "stdout",
     "output_type": "stream",
     "text": [
      "_________________________________________________________________\n",
      "Layer (type)                 Output Shape              Param #   \n",
      "=================================================================\n",
      "dense_3 (Dense)              (None, 800)               628000    \n",
      "_________________________________________________________________\n",
      "dense_4 (Dense)              (None, 10)                8010      \n",
      "=================================================================\n",
      "Total params: 636,010\n",
      "Trainable params: 636,010\n",
      "Non-trainable params: 0\n",
      "_________________________________________________________________\n",
      "None\n"
     ]
    },
    {
     "name": "stderr",
     "output_type": "stream",
     "text": [
      "/home/vlad/anaconda3/lib/python3.6/site-packages/ipykernel_launcher.py:6: UserWarning: Update your `Dense` call to the Keras 2 API: `Dense(10, activation=\"softmax\", kernel_initializer=\"normal\")`\n",
      "  \n"
     ]
    }
   ],
   "source": [
    "model = Sequential()\n",
    "\n",
    "#Add network levels\n",
    "model.add(Dense(800, input_dim=784, init='normal', \n",
    "          activation='relu'))\n",
    "model.add(Dense(10, init='normal', activation='softmax'))\n",
    "\n",
    "#Model compilation\n",
    "model.compile(loss='categorical_crossentropy', \n",
    "              optimizer=\"SGD\", metrics=['accuracy'])\n",
    "\n",
    "print(model.summary())"
   ]
  },
  {
   "cell_type": "code",
   "execution_count": 4,
   "metadata": {},
   "outputs": [
    {
     "name": "stdout",
     "output_type": "stream",
     "text": [
      "Train on 48000 samples, validate on 12000 samples\n",
      "Epoch 1/25\n",
      " - 20s - loss: 1.3219 - acc: 0.6916 - val_loss: 0.7794 - val_acc: 0.8502\n",
      "Epoch 2/25\n",
      " - 12s - loss: 0.6729 - acc: 0.8523 - val_loss: 0.5375 - val_acc: 0.8732\n",
      "Epoch 3/25\n",
      " - 11s - loss: 0.5238 - acc: 0.8726 - val_loss: 0.4493 - val_acc: 0.8883\n",
      "Epoch 4/25\n",
      " - 10s - loss: 0.4561 - acc: 0.8837 - val_loss: 0.4033 - val_acc: 0.8976\n",
      "Epoch 5/25\n",
      " - 12s - loss: 0.4161 - acc: 0.8912 - val_loss: 0.3734 - val_acc: 0.9034\n",
      "Epoch 6/25\n",
      " - 9s - loss: 0.3889 - acc: 0.8961 - val_loss: 0.3530 - val_acc: 0.9062\n",
      "Epoch 7/25\n",
      " - 9s - loss: 0.3686 - acc: 0.9007 - val_loss: 0.3370 - val_acc: 0.9103\n",
      "Epoch 8/25\n",
      " - 9s - loss: 0.3528 - acc: 0.9039 - val_loss: 0.3249 - val_acc: 0.9113\n",
      "Epoch 9/25\n",
      " - 11s - loss: 0.3399 - acc: 0.9068 - val_loss: 0.3145 - val_acc: 0.9141\n",
      "Epoch 10/25\n",
      " - 10s - loss: 0.3289 - acc: 0.9095 - val_loss: 0.3061 - val_acc: 0.9164\n",
      "Epoch 11/25\n",
      " - 10s - loss: 0.3194 - acc: 0.9123 - val_loss: 0.2985 - val_acc: 0.9171\n",
      "Epoch 12/25\n",
      " - 9s - loss: 0.3110 - acc: 0.9143 - val_loss: 0.2916 - val_acc: 0.9201\n",
      "Epoch 13/25\n",
      " - 9s - loss: 0.3035 - acc: 0.9163 - val_loss: 0.2855 - val_acc: 0.9215\n",
      "Epoch 14/25\n",
      " - 11s - loss: 0.2967 - acc: 0.9180 - val_loss: 0.2795 - val_acc: 0.9234\n",
      "Epoch 15/25\n",
      " - 11s - loss: 0.2904 - acc: 0.9198 - val_loss: 0.2747 - val_acc: 0.9242\n",
      "Epoch 16/25\n",
      " - 10s - loss: 0.2844 - acc: 0.9214 - val_loss: 0.2703 - val_acc: 0.9264\n",
      "Epoch 17/25\n",
      " - 9s - loss: 0.2792 - acc: 0.9231 - val_loss: 0.2655 - val_acc: 0.9273\n",
      "Epoch 18/25\n",
      " - 10s - loss: 0.2741 - acc: 0.9242 - val_loss: 0.2611 - val_acc: 0.9291\n",
      "Epoch 19/25\n",
      " - 9s - loss: 0.2692 - acc: 0.9257 - val_loss: 0.2572 - val_acc: 0.9300\n",
      "Epoch 20/25\n",
      " - 10s - loss: 0.2646 - acc: 0.9271 - val_loss: 0.2533 - val_acc: 0.9307\n",
      "Epoch 21/25\n",
      " - 12s - loss: 0.2604 - acc: 0.9283 - val_loss: 0.2497 - val_acc: 0.9310\n",
      "Epoch 22/25\n",
      " - 11s - loss: 0.2560 - acc: 0.9296 - val_loss: 0.2464 - val_acc: 0.9319\n",
      "Epoch 23/25\n",
      " - 10s - loss: 0.2521 - acc: 0.9305 - val_loss: 0.2432 - val_acc: 0.9325\n",
      "Epoch 24/25\n",
      " - 9s - loss: 0.2482 - acc: 0.9311 - val_loss: 0.2407 - val_acc: 0.9338\n",
      "Epoch 25/25\n",
      " - 10s - loss: 0.2446 - acc: 0.9324 - val_loss: 0.2366 - val_acc: 0.9342\n"
     ]
    },
    {
     "data": {
      "text/plain": [
       "<keras.callbacks.History at 0x7f800009a160>"
      ]
     },
     "execution_count": 4,
     "metadata": {},
     "output_type": "execute_result"
    }
   ],
   "source": [
    "model.fit(X_train, Y_train, batch_size=200, epochs=25,\n",
    "          validation_split=0.2, verbose=2)"
   ]
  },
  {
   "cell_type": "code",
   "execution_count": 5,
   "metadata": {},
   "outputs": [
    {
     "name": "stdout",
     "output_type": "stream",
     "text": [
      "Точность работы на тестовых данных: 93.48%\n"
     ]
    }
   ],
   "source": [
    "# Оцениваем качество обучения сети на тестовых данных\n",
    "scores = model.evaluate(X_test, Y_test, verbose=0)\n",
    "print(\"Точность работы на тестовых данных: %.2f%%\" % (scores[1]*100))"
   ]
  },
  {
   "cell_type": "code",
   "execution_count": null,
   "metadata": {
    "collapsed": true
   },
   "outputs": [],
   "source": []
  }
 ],
 "metadata": {
  "kernelspec": {
   "display_name": "Python 3",
   "language": "python",
   "name": "python3"
  },
  "language_info": {
   "codemirror_mode": {
    "name": "ipython",
    "version": 3
   },
   "file_extension": ".py",
   "mimetype": "text/x-python",
   "name": "python",
   "nbconvert_exporter": "python",
   "pygments_lexer": "ipython3",
   "version": "3.6.3"
  }
 },
 "nbformat": 4,
 "nbformat_minor": 2
}
